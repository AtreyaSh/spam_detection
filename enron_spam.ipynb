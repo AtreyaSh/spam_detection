{
  "nbformat": 4,
  "nbformat_minor": 0,
  "metadata": {
    "colab": {
      "name": "enron-spam.ipynb",
      "version": "0.3.2",
      "provenance": [],
      "collapsed_sections": [],
      "include_colab_link": true
    },
    "kernelspec": {
      "name": "python3",
      "display_name": "Python 3"
    },
    "accelerator": "GPU"
  },
  "cells": [
    {
      "cell_type": "markdown",
      "metadata": {
        "id": "view-in-github",
        "colab_type": "text"
      },
      "source": [
        "<a href=\"https://colab.research.google.com/github/AtreyaSh/spam_detection/blob/master/enron_spam.ipynb\" target=\"_parent\"><img src=\"https://colab.research.google.com/assets/colab-badge.svg\" alt=\"Open In Colab\"/></a>"
      ]
    },
    {
      "cell_type": "markdown",
      "metadata": {
        "id": "L8R72rzAytlb",
        "colab_type": "text"
      },
      "source": [
        "**Get dependencies and mount Gdrive**"
      ]
    },
    {
      "cell_type": "code",
      "metadata": {
        "id": "RvyogXJh6QXb",
        "colab_type": "code",
        "colab": {}
      },
      "source": [
        "!pip install nltk\n",
        "!pip install sklearn\n",
        "!pip install tensorflow-gpu\n",
        "!pip install keras"
      ],
      "execution_count": 0,
      "outputs": []
    },
    {
      "cell_type": "code",
      "metadata": {
        "id": "VvzzNQiTtKGK",
        "colab_type": "code",
        "colab": {}
      },
      "source": [
        "# mount google colab so data can be synced\n",
        "from google.colab import drive\n",
        "drive.mount('/content/gdrive')"
      ],
      "execution_count": 0,
      "outputs": []
    },
    {
      "cell_type": "markdown",
      "metadata": {
        "id": "C41YDwn_yNGD",
        "colab_type": "text"
      },
      "source": [
        "**Repository initialization**\n"
      ]
    },
    {
      "cell_type": "code",
      "metadata": {
        "id": "VX8v7LFPuDEc",
        "colab_type": "code",
        "outputId": "072a26f9-0ec0-44e3-ea2e-4eaef3f1cad8",
        "colab": {
          "base_uri": "https://localhost:8080/",
          "height": 34
        }
      },
      "source": [
        "# change working directory\n",
        "%cd /content/gdrive/My\\ Drive/\n",
        "# clone git repository\n",
        "!git clone https://github.com/AtreyaSh/spam_detection.git\n",
        "# move into main directory\n",
        "%cd /content/gdrive/My\\ Drive/spam_detection"
      ],
      "execution_count": 0,
      "outputs": [
        {
          "output_type": "stream",
          "text": [
            "/content/gdrive/My Drive\n"
          ],
          "name": "stdout"
        }
      ]
    },
    {
      "cell_type": "code",
      "metadata": {
        "id": "THUfBzYOxtIF",
        "colab_type": "code",
        "colab": {}
      },
      "source": [
        "# initialize base data\n",
        "!chmod +x /content/gdrive/My\\ Drive/spam_detection/init.sh\n",
        "!chmod +x /content/gdrive/My\\ Drive/spam_detection/src/data/enron/enron_spam.sh\n",
        "!chmod +x /content/gdrive/My\\ Drive/spam_detection/src/data.sh\n",
        "# get all data and output to /dev/null to prevent browser memory overload\n",
        "!. /content/gdrive/My\\ Drive/spam_detection/src/data.sh >/dev/null 2>&1"
      ],
      "execution_count": 0,
      "outputs": []
    },
    {
      "cell_type": "markdown",
      "metadata": {
        "id": "UIqzAF8IsmrO",
        "colab_type": "text"
      },
      "source": [
        ""
      ]
    },
    {
      "cell_type": "code",
      "metadata": {
        "id": "5UkZrnlQtRph",
        "colab_type": "code",
        "colab": {}
      },
      "source": [
        "# initialize and pre-process training data\n",
        "%cd /content/gdrive/My\\ Drive/spam_detection/src\n",
        "!python3 bag_words.py\n",
        "!python3 sequence_encode.py\n",
        "!python3 embedding_matrix_gen.py"
      ],
      "execution_count": 0,
      "outputs": []
    },
    {
      "cell_type": "markdown",
      "metadata": {
        "id": "HZcDAIHNyYdW",
        "colab_type": "text"
      },
      "source": [
        "**Update repository**"
      ]
    },
    {
      "cell_type": "code",
      "metadata": {
        "id": "SvH_id3KtdOW",
        "colab_type": "code",
        "colab": {}
      },
      "source": [
        "# change working directory\n",
        "%cd /content/gdrive/My\\ Drive/spam_detection\n",
        "# optionally pull from upstream git repo, rewrite old files\n",
        "!git fetch --all\n",
        "!git reset --hard origin/master\n",
        "!git pull origin master"
      ],
      "execution_count": 0,
      "outputs": []
    },
    {
      "cell_type": "markdown",
      "metadata": {
        "id": "o84P8xBXzG4I",
        "colab_type": "text"
      },
      "source": [
        "**Run SVM grid-search**"
      ]
    },
    {
      "cell_type": "code",
      "metadata": {
        "id": "dB5YpYsqzGn7",
        "colab_type": "code",
        "colab": {}
      },
      "source": [
        "%cd /content/gdrive/My\\ Drive/spam_detection/src\n",
        "!python3 train_svm.py"
      ],
      "execution_count": 0,
      "outputs": []
    },
    {
      "cell_type": "markdown",
      "metadata": {
        "id": "wUTo_Ko8K7SM",
        "colab_type": "text"
      },
      "source": [
        "**Run CNN-LSTM grid-search**"
      ]
    },
    {
      "cell_type": "code",
      "metadata": {
        "id": "JYofLhklK6rl",
        "colab_type": "code",
        "colab": {}
      },
      "source": [
        "%cd /content/gdrive/My\\ Drive/spam_detection/src\n",
        "!python3 train_rnn.py --subtype all --pre-trained-embeddings"
      ],
      "execution_count": 0,
      "outputs": []
    },
    {
      "cell_type": "markdown",
      "metadata": {
        "id": "4NhwSGSSbKg3",
        "colab_type": "text"
      },
      "source": [
        "**Run aggregated model evaluations**"
      ]
    },
    {
      "cell_type": "code",
      "metadata": {
        "id": "BzzlHoPGbKQ0",
        "colab_type": "code",
        "colab": {}
      },
      "source": [
        "%cd /content/gdrive/My\\ Drive/spam_detection/src\n",
        "!python3 model_evaluation.py -p all\n",
        "# !python3 model_visualization.py -p all\n",
        "# it is recommended to run on a PC rather than colab, since this requires R and respective libraries"
      ],
      "execution_count": 0,
      "outputs": []
    }
  ]
}